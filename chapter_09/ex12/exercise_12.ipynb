{
 "cells": [
  {
   "cell_type": "markdown",
   "id": "ce509df2-f1ba-4e27-a4b7-be046c5ea689",
   "metadata": {},
   "source": [
    "# Exercise 12\n",
    "\n",
    "Train a Gaussian mixture model on the Olivetti faces dataset. To speed up the algorithm, you should\n",
    "probably reduce the dataset's dimensionality (e.g. use PCA, preserving 99% of variance). Use the model\n",
    "to generate some new faces (using the `sample()` method), and visualize them (if you used PCA, you will\n",
    "need to use its `inverse_transform()` method). Try to modify some images (e.g. rotate, flip, darken)\n",
    "and see if the model can detect the anomalies (i.e. compare the output of the `score_samples()` method\n",
    "for normal images and for anomalies)."
   ]
  },
  {
   "cell_type": "markdown",
   "id": "2f4a48aa-0d42-40b5-956e-5e3f1555bdb2",
   "metadata": {},
   "source": [
    "### Imports"
   ]
  },
  {
   "cell_type": "code",
   "execution_count": 3,
   "id": "7f5f0850-117a-4cbb-a5f0-a6f7a7a768e7",
   "metadata": {},
   "outputs": [],
   "source": [
    "from sklearn.datasets import fetch_olivetti_faces\n",
    "from sklearn.model_selection import train_test_split\n",
    "from numpy.typing import NDArray\n",
    "import numpy as np\n",
    "from sklearn.mixture import GaussianMixture\n",
    "from typing import Any, Callable\n",
    "from sklearn.decomposition import PCA\n",
    "from joblib import Parallel, delayed\n",
    "import matplotlib.pyplot as plt"
   ]
  },
  {
   "cell_type": "code",
   "execution_count": 4,
   "id": "ce41d45f-84da-4b03-8453-36f7f26520cd",
   "metadata": {},
   "outputs": [],
   "source": [
    "olivetti = fetch_olivetti_faces()"
   ]
  },
  {
   "cell_type": "markdown",
   "id": "9109c740-593c-4cda-9295-cc1edad1f4aa",
   "metadata": {},
   "source": [
    "## Step 1. Split the data"
   ]
  },
  {
   "cell_type": "code",
   "execution_count": 5,
   "id": "9854793d-3175-4971-a3e9-20602ea35e92",
   "metadata": {},
   "outputs": [],
   "source": [
    "X_train, X_test, y_train, y_test = train_test_split(olivetti.data, olivetti.target, stratify=olivetti.target, test_size=0.2, random_state=42)"
   ]
  },
  {
   "cell_type": "markdown",
   "id": "63d5694e-6132-445b-bf4a-724af05f08be",
   "metadata": {},
   "source": [
    "## Step 2. Reduce dataset's dimensionality with PCA"
   ]
  },
  {
   "cell_type": "code",
   "execution_count": 6,
   "id": "6a71046a-12f6-4704-897d-781542c117f4",
   "metadata": {},
   "outputs": [],
   "source": [
    "def determine_optimal_pca_components(\n",
    "    X_train: NDArray[np.floating], variance_threshold: float = 0.95\n",
    ") -> int:\n",
    "    \"\"\"\n",
    "    Calculate the minimum number of principal components needed to retain a specified percentage of the variance.\n",
    "\n",
    "    Args:\n",
    "        X_train: 2D array-like, shape (n_samples, n_features), the training data.\n",
    "        variance_threshold: Float between 0 and 1, the target fraction of variance to retain (default: 0.95).\n",
    "\n",
    "    Returns:\n",
    "        The minimum number of PCA components required to preserve at least the desired variance.\n",
    "    \"\"\"\n",
    "    pca = PCA().fit(X_train)\n",
    "    cumsum = np.cumsum(pca.explained_variance_ratio_)\n",
    "    d = np.argmax(cumsum >= variance_threshold) + 1\n",
    "    print(\n",
    "        f\"Optimal number of PCA components to keept at least variance {variance_threshold:.0%} is {d}\"\n",
    "    )\n",
    "    return d"
   ]
  },
  {
   "cell_type": "code",
   "execution_count": 7,
   "id": "2382a8de-bdfc-41df-a6cf-2d61d80b8162",
   "metadata": {},
   "outputs": [
    {
     "name": "stdout",
     "output_type": "stream",
     "text": [
      "Optimal number of PCA components to keept at least variance 99% is 222\n"
     ]
    }
   ],
   "source": [
    "n_components = determine_optimal_pca_components(X_train, 0.99)\n",
    "pca = PCA(n_components=n_components)\n",
    "X_train_reduced = pca.fit_transform(X_train)"
   ]
  },
  {
   "cell_type": "markdown",
   "id": "336af930-2d8c-442b-83ea-b46571897670",
   "metadata": {},
   "source": [
    "## Step 3. Select the number of cluster using aic() or `BayesianGaussianMixture`\n"
   ]
  },
  {
   "cell_type": "code",
   "execution_count": 8,
   "id": "271f53bb-7cd1-4e98-aab3-2fb96bc05f27",
   "metadata": {},
   "outputs": [],
   "source": [
    "def compute_aic(k: int, X: NDArray[Any]) -> float:\n",
    "    gm = GaussianMixture(n_components=k, n_init=10, random_state=42)\n",
    "    gm.fit(X)\n",
    "    return gm.aic(X)"
   ]
  },
  {
   "cell_type": "code",
   "execution_count": 9,
   "id": "cb2a46ce-fdb2-4947-ada2-d973749e2164",
   "metadata": {},
   "outputs": [],
   "source": [
    "def find_optimal_clusters(\n",
    "    k_values: np.ndarray,\n",
    "    X: NDArray[Any],\n",
    "    score_func: Callable[[int, NDArray[Any]], float],\n",
    "    n_jobs=-1,\n",
    ") -> tuple[np.ndarray, list[float]]:\n",
    "    \"\"\"\n",
    "    Evaluates a given scoring function (in parallel) across multiple values of k for clustering.\n",
    "\n",
    "    Args:\n",
    "        k_values: Array of candidate 'k' (number of clusters/components) values to evaluate.\n",
    "        X: Data to cluster (2D array: samples x features).\n",
    "        score_func: Function that takes (k, X) and returns a float score (e.g., silhouette or AIC).\n",
    "        n_jobs: Number of parallel jobs (-1 uses all available processors).\n",
    "\n",
    "    Returns:\n",
    "        Tuple of (k_values, scores) where scores is a list of floats from score_func for each k.\n",
    "    \"\"\"\n",
    "    scores = Parallel(n_jobs=n_jobs)(delayed(score_func)(k, X) for k in k_values)\n",
    "    return k_values, scores"
   ]
  },
  {
   "cell_type": "code",
   "execution_count": 10,
   "id": "0bdbe2f5-f5d7-4123-b4c1-deabe7bafc7f",
   "metadata": {},
   "outputs": [
    {
     "name": "stdout",
     "output_type": "stream",
     "text": [
      "Best k for max score is 57\n"
     ]
    }
   ],
   "source": [
    "(k_candidates, k_scores) = find_optimal_clusters(\n",
    "    np.arange(30, 60, 3), X_train_reduced, compute_aic\n",
    ")\n",
    "optimal_k = k_candidates[np.argmax(k_scores)]\n",
    "# establishes as 57\n",
    "print(f\"Best k for max score is {optimal_k}\")"
   ]
  },
  {
   "cell_type": "markdown",
   "id": "01e6eefd-5823-4720-bbf4-69ac2d7b6378",
   "metadata": {},
   "source": [
    "## Step 4. Train a Gaussian mixture on the reduced dataset"
   ]
  },
  {
   "cell_type": "code",
   "execution_count": 11,
   "id": "3ef7b570-8045-4140-aa74-13c414f1d4b7",
   "metadata": {},
   "outputs": [
    {
     "name": "stdout",
     "output_type": "stream",
     "text": [
      "GM converged True in 2 iterations\n"
     ]
    }
   ],
   "source": [
    "gm = GaussianMixture(n_components=optimal_k, n_init=10, random_state=42)\n",
    "gm.fit(X_train_reduced)\n",
    "print(f\"GM converged {gm.converged_} in {gm.n_iter_} iterations\")"
   ]
  },
  {
   "cell_type": "markdown",
   "id": "27b249c4-d1b7-45a4-8768-174322b2df1e",
   "metadata": {},
   "source": [
    "## Step 5. Sample a few new faces and visualize them"
   ]
  },
  {
   "cell_type": "code",
   "execution_count": 12,
   "id": "b63cd914-b6c0-417d-9068-5d3f7ed2db82",
   "metadata": {},
   "outputs": [],
   "source": [
    "X_new_reduced, y_new_reduced = gm.sample(4)"
   ]
  },
  {
   "cell_type": "code",
   "execution_count": 13,
   "id": "575bdbe0-bce2-4709-820d-33520aadb851",
   "metadata": {},
   "outputs": [],
   "source": [
    "X_new = pca.inverse_transform(X_new_reduced)\n",
    "new_images = X_new.reshape(-1, 64, 64)"
   ]
  },
  {
   "cell_type": "code",
   "execution_count": 14,
   "id": "3240c729-e579-4dd6-9427-5190b86306f6",
   "metadata": {},
   "outputs": [],
   "source": [
    "def plot_faces(faces, labels, n_cols=5, display_handler=None):\n",
    "    \"\"\"\n",
    "    Plot faces in a grid with flexible display handling\n",
    "\n",
    "    Args:\n",
    "        faces: Array of face images (shape: n_samples X 4096)\n",
    "        labels: List of labels for each face\n",
    "        n_cols: Number of columns iin grid\n",
    "        display_handler: Function that handles display/saving\n",
    "                         Signature: handler(fig) -> None\n",
    "    \"\"\"\n",
    "    faces = faces.reshape(-1, 64, 64)\n",
    "    n_rows = (len(faces) - 1) // n_cols + 1\n",
    "    fig = plt.figure(figsize=(n_cols * 1.5, n_rows * 1.5))\n",
    "\n",
    "    for index, (face, label) in enumerate(zip(faces, labels)):\n",
    "        ax = fig.add_subplot(n_rows, n_cols, index + 1)\n",
    "        ax.imshow(face, cmap=\"gray\")\n",
    "        ax.axis(\"off\")\n",
    "        ax.set_title(str(label), fontsize=9)\n",
    "\n",
    "    plt.tight_layout()\n",
    "\n",
    "    if display_handler:\n",
    "        display_handler(fig)\n",
    "    else:\n",
    "        plt.show()\n",
    "    plt.close(fig)"
   ]
  },
  {
   "cell_type": "code",
   "execution_count": 16,
   "id": "62efeb9b-05ad-41fe-8ed6-37047b46b087",
   "metadata": {},
   "outputs": [
    {
     "data": {
      "image/png": "[encoded data removed]",
      "text/plain": [
       "<Figure size 600x150 with 4 Axes>"
      ]
     },
     "metadata": {},
     "output_type": "display_data"
    }
   ],
   "source": [
    "plot_faces(\n",
    "    X_new,\n",
    "    y_new_reduced,\n",
    "    n_cols=4\n",
    ")"
   ]
  },
  {
   "cell_type": "markdown",
   "id": "4285b6da-4bbd-4f37-9dcc-345a7c405f5c",
   "metadata": {},
   "source": [
    "## Step 6. Modify some other images and see if the model can detect anomalies"
   ]
  },
  {
   "cell_type": "code",
   "execution_count": null,
   "id": "370ece9f-8008-4716-a6d4-aed760a0d573",
   "metadata": {},
   "outputs": [],
   "source": []
  }
 ],
 "metadata": {
  "kernelspec": {
   "display_name": "Python 3 (ipykernel)",
   "language": "python",
   "name": "python3"
  },
  "language_info": {
   "codemirror_mode": {
    "name": "ipython",
    "version": 3
   },
   "file_extension": ".py",
   "mimetype": "text/x-python",
   "name": "python",
   "nbconvert_exporter": "python",
   "pygments_lexer": "ipython3",
   "version": "3.10.16"
  }
 },
 "nbformat": 4,
 "nbformat_minor": 5
}
