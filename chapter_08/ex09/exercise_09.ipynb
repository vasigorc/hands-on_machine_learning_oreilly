{
 "cells": [
  {
   "cell_type": "markdown",
   "id": "9bea8c06-38fd-48f4-8e2c-fe08d0167e97",
   "metadata": {},
   "source": [
    "# Exercise 9.\n",
    "\n",
    "Load the MNIST dataset (introduced in Chapter 3) and split it into a training set and a\n",
    "test set (take the first 60,000 instances for training, and the remaining 10,000 for testing). Train\n",
    "a `RandomForestClassifier` on the dataset and time how long it takes, then evaluate the resulting model\n",
    "on the test set. Next, use PCA to reduce the dataset's dimensionality, with an explained variance ratio\n",
    "of 95%. Train a new random forest classifier on the reduced dataset and see how long it takes. Was training\n",
    "much faster? Next, evaluate the classifier on the test set. How does it compare to the previous classifier?\n",
    "Try again with an `SGDClassifier`. How much does PCA help now?"
   ]
  },
  {
   "cell_type": "markdown",
   "id": "ea61693b-426c-45b3-b108-1bfea00e5175",
   "metadata": {},
   "source": [
    "## Step 1. Load and split the dataset"
   ]
  },
  {
   "cell_type": "code",
   "execution_count": 1,
   "id": "a77cfa10-7ad3-487b-8470-ba5d35c042a7",
   "metadata": {},
   "outputs": [],
   "source": [
    "from sklearn.datasets import fetch_openml\n",
    "from sklearn.model_selection import train_test_split"
   ]
  },
  {
   "cell_type": "code",
   "execution_count": 3,
   "id": "939299dd-ab3c-4b88-9446-02e7f8a6b40e",
   "metadata": {},
   "outputs": [],
   "source": [
    "# Load the data\n",
    "mnist = fetch_openml(\"mnist_784\", version=1, as_frame=False, parser=\"auto\")\n",
    "X = mnist.data\n",
    "y = mnist.target"
   ]
  },
  {
   "cell_type": "code",
   "execution_count": 5,
   "id": "8347d792-6bc0-4c7b-83f3-b5f7c510d585",
   "metadata": {},
   "outputs": [],
   "source": [
    "X_train, X_test, y_train, y_test = train_test_split(X, y, test_size=10_000, random_state=42)"
   ]
  },
  {
   "cell_type": "markdown",
   "id": "d80521a3-b7ff-4651-b679-5d02c2d0dc82",
   "metadata": {},
   "source": [
    "## Step 2. Train and test classifiers without PCA"
   ]
  },
  {
   "cell_type": "code",
   "execution_count": 23,
   "id": "ffc8c4e6-3e56-46cf-b0c7-cc604bd29bca",
   "metadata": {},
   "outputs": [],
   "source": [
    "import time\n",
    "from functools import wraps\n",
    "\n",
    "def timeit(func):\n",
    "    @wraps(func)\n",
    "    def wrapper(*args, **kwargs):\n",
    "        start_time = time.time()\n",
    "        result = func(*args, *kwargs)\n",
    "        end_time = time.time()\n",
    "        execution_time = end_time - start_time\n",
    "        return result, execution_time\n",
    "    return wrapper\n",
    "\n",
    "# from chapter_07/common/model_utils.py\n",
    "@timeit\n",
    "def evaluate_single_classifier(X_train, y_train, X_test, y_test, clf):\n",
    "    clf.fit(X_train, y_train)\n",
    "    accuracy = clf.score(X_test, y_test)\n",
    "    return clf, accuracy\n",
    "\n",
    "def train_and_evaluate_classifiers(\n",
    "    classifiers, X_train, y_train, X_validation, y_validation\n",
    "):\n",
    "    \"\"\"\n",
    "    Train each classifier on the full training set and print its accuracy.\n",
    "\n",
    "    Returns:\n",
    "        trained_models: List of tuples (name, trained_classifier)\n",
    "    \"\"\"\n",
    "    trained_models = []\n",
    "\n",
    "    for name, clf in classifiers:\n",
    "        fitted_clf, accuracy = evaluate_single_classifier(\n",
    "            X_train, y_train, X_validation, y_validation, clf\n",
    "        )\n",
    "        print(f\"{name}'s accuracy on the validation set is {accuracy:.4f}\")\n",
    "\n",
    "        trained_models.append((name, fitted_clf))\n",
    "\n",
    "    return trained_models"
   ]
  },
  {
   "cell_type": "code",
   "execution_count": 32,
   "id": "c8593cd4-fe01-47e2-9eb8-4c35826f7d5a",
   "metadata": {},
   "outputs": [],
   "source": [
    "from sklearn.ensemble import RandomForestClassifier\n",
    "from sklearn.linear_model import SGDClassifier\n",
    "\n",
    "def classifiers_factory():\n",
    "    return [\n",
    "        (\"random_forest\", RandomForestClassifier(random_state=42)),\n",
    "        (\"sgd\", SGDClassifier(random_state=42))\n",
    "    ]\n"
   ]
  },
  {
   "cell_type": "code",
   "execution_count": 25,
   "id": "51d66dc6-fde5-4b0d-aabd-a68880bfdef9",
   "metadata": {},
   "outputs": [
    {
     "name": "stdout",
     "output_type": "stream",
     "text": [
      "random_forest took 18.6954 seconds to execute. It had the accuracy of 0.9674\n",
      "sgd took 60.8442 seconds to execute. It had the accuracy of 0.8691\n"
     ]
    }
   ],
   "source": [
    "base_classifiers = classifiers_factory()\n",
    "for name, clf in base_classifiers:\n",
    "    (fitted_clf, accuracy), timing = evaluate_single_classifier(X_train, y_train, X_test, y_test, clf)\n",
    "    print(f\"{name} took {timing:.4f} seconds to execute. It had the accuracy of {accuracy:.4f}\")"
   ]
  },
  {
   "cell_type": "markdown",
   "id": "5766b499-ab02-425f-8670-4990523a0a45",
   "metadata": {},
   "source": [
    "# Step 3. Use PCA to reduce dimensions by keeping variance at 95%"
   ]
  },
  {
   "cell_type": "code",
   "execution_count": 28,
   "id": "1d4a6628-2c74-449c-9c3d-ea2938ee4236",
   "metadata": {},
   "outputs": [],
   "source": [
    "from sklearn.decomposition import PCA\n",
    "import numpy as np"
   ]
  },
  {
   "cell_type": "code",
   "execution_count": 29,
   "id": "e9b7b54f-923c-46da-b390-3046f6e5feaa",
   "metadata": {},
   "outputs": [
    {
     "name": "stdout",
     "output_type": "stream",
     "text": [
      "optimal number of retained dimensions for the MNIST dataset (to keep variance at 95%) is 154\n"
     ]
    }
   ],
   "source": [
    "# find the optimal number of dimensions so as to keep variance at 95%\n",
    "pca = PCA()\n",
    "pca.fit(X_train)\n",
    "cumsum = np.cumsum(pca.explained_variance_ratio_)\n",
    "d = np.argmax(cumsum >= 0.95) + 1\n",
    "print(f\"optimal number of retained dimensions for the MNIST dataset (to keep variance at 95%) is {d}\")"
   ]
  },
  {
   "cell_type": "code",
   "execution_count": 31,
   "id": "adf937f8-cdd9-4954-9bf0-c1df33491e69",
   "metadata": {},
   "outputs": [],
   "source": [
    "# obtain the reduced training set\n",
    "pca = PCA(n_components=d)\n",
    "X_train_reduced = pca.fit_transform(X_train)\n",
    "\n",
    "# and the reduced test set\n",
    "# we need to use transform() instead of fit_transform(), this\n",
    "# 1. ensures we use the same principal components in training and testing\n",
    "# 2. makes sure that the model is evaluated on data transformed in the same way as it was trained\n",
    "# 2. prevents data leakage\n",
    "X_test_reduced = pca.transform(X_test)"
   ]
  },
  {
   "cell_type": "markdown",
   "id": "246fd2a7-ceb4-41f3-b7c4-fd8b04578449",
   "metadata": {},
   "source": [
    "# Step 4. Train and test classifiers with PCA"
   ]
  },
  {
   "cell_type": "code",
   "execution_count": 36,
   "id": "53029426-4ce0-48ef-a020-8c8c6ac41d3d",
   "metadata": {},
   "outputs": [
    {
     "name": "stdout",
     "output_type": "stream",
     "text": [
      "random_forest with PCA took 83.1906 seconds to execute. It had the accuracy of 0.9471\n",
      "sgd with PCA took 15.8823 seconds to execute. It had the accuracy of 0.8862\n"
     ]
    }
   ],
   "source": [
    "classifiers_with_pca = classifiers_factory()\n",
    "for name, clf in classifiers_with_pca:\n",
    "    (fitted_clf, accuracy), timing = evaluate_single_classifier(X_train_reduced, y_train, X_test_reduced, y_test, clf)\n",
    "    print(f\"{name} with PCA took {timing:.4f} seconds to execute. It had the accuracy of {accuracy:.4f}\")"
   ]
  },
  {
   "cell_type": "code",
   "execution_count": null,
   "id": "fae15944-62de-410e-a34d-df6461d42d9c",
   "metadata": {},
   "outputs": [],
   "source": []
  }
 ],
 "metadata": {
  "kernelspec": {
   "display_name": "Python 3 (ipykernel)",
   "language": "python",
   "name": "python3"
  },
  "language_info": {
   "codemirror_mode": {
    "name": "ipython",
    "version": 3
   },
   "file_extension": ".py",
   "mimetype": "text/x-python",
   "name": "python",
   "nbconvert_exporter": "python",
   "pygments_lexer": "ipython3",
   "version": "3.10.16"
  }
 },
 "nbformat": 4,
 "nbformat_minor": 5
}
