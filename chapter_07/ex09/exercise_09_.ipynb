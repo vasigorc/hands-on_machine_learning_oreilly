{
 "cells": [
  {
   "cell_type": "markdown",
   "id": "aa4e28a9-55ac-4b77-a85a-4f88d9ded59e",
   "metadata": {},
   "source": [
    "# Exercise 09\n",
    "\n",
    "Run the individual classifiers from the previous exercise to make predictions on the validaiton set,\n",
    "and create a new training set with the resulting predictions: each training instance is a vector containing\n",
    "the set of predictions from all your classifiers for an image, and the target is the image's class.\n",
    "Train a classifier on this new training set. Congratulations - you have just trained a blender, and\n",
    "together with the classifiers it forms a stacking ensemble! Now evaluate the ensemble on the test set.\n",
    "For each image in the test set, make predictions with all your classifiers, then feed the predictions\n",
    "to the blender to get the ensemble's predictions. How does it compare to the voting classifier you trained\n",
    "earlier? Now try again using a `StackingClassifier` instead. Do you get better performance? If so, why?"
   ]
  },
  {
   "cell_type": "markdown",
   "id": "36682dba-6f91-482f-ab01-88ed1c462b28",
   "metadata": {},
   "source": [
    "## Imports"
   ]
  },
  {
   "cell_type": "code",
   "execution_count": 27,
   "id": "0c759507-60d9-469b-8af0-57dfe0aa3b35",
   "metadata": {},
   "outputs": [],
   "source": [
    "from sklearn.svm import SVC\n",
    "from sklearn.ensemble import (\n",
    "    RandomForestClassifier,\n",
    "    ExtraTreesClassifier,\n",
    "    StackingClassifier,\n",
    "\n",
    ")\n",
    "from sklearn.datasets import fetch_openml\n",
    "from sklearn.model_selection import train_test_split\n",
    "from sklearn.linear_model import LogisticRegression\n",
    "import numpy as np"
   ]
  },
  {
   "cell_type": "markdown",
   "id": "fc3a8739-8011-4f71-987d-0c669b864eff",
   "metadata": {},
   "source": [
    "## Common Functions"
   ]
  },
  {
   "cell_type": "code",
   "execution_count": 12,
   "id": "850761c3-a57f-4d30-adbf-97de3b902a1b",
   "metadata": {},
   "outputs": [],
   "source": [
    "def train_and_evaluate_classifiers(\n",
    "    classifiers, X_train, y_train, X_validation, y_validation\n",
    "):\n",
    "    \"\"\"\n",
    "    Train each classifier on the full training set and print its accuracy.\n",
    "\n",
    "    Returns:\n",
    "        trained_models: List of tuples (name, trained_classifier)\n",
    "    \"\"\"\n",
    "    trained_models = []\n",
    "\n",
    "    for name, clf in classifiers:\n",
    "        fitted_clf, accuracy = evaluate_single_classifier(\n",
    "            X_train, y_train, X_validation, y_validation, clf\n",
    "        )\n",
    "        print(f\"{name}'s accuracy on the validation set is {accuracy:.4f}\")\n",
    "\n",
    "        trained_models.append((name, fitted_clf))\n",
    "\n",
    "    return trained_models\n",
    "\n",
    "def evaluate_single_classifier(X_train, y_train, X_validation, y_validation, clf):\n",
    "    clf.fit(X_train, y_train)\n",
    "    accuracy = clf.score(X_validation, y_validation)\n",
    "    return clf, accuracy"
   ]
  },
  {
   "cell_type": "code",
   "execution_count": 6,
   "id": "f86c16b1-6ebc-4107-bd1b-a96d8df49d72",
   "metadata": {},
   "outputs": [],
   "source": [
    "def load_mnist_dataset():\n",
    "    \"\"\"Load the MNIST dataset\"\"\"\n",
    "    mnist = fetch_openml(\"mnist_784\", version=1, as_frame=False, parser=\"auto\")\n",
    "    X = mnist.data\n",
    "    y = mnist.target\n",
    "    return X, y\n",
    "\n",
    "\n",
    "def split_mnist_dataset(\n",
    "    X, y, validation_size=10_000, test_size=10_000, random_state=42\n",
    "):\n",
    "    \"\"\"\n",
    "    Split MNIST dataset into training, validation, and test sets.\n",
    "\n",
    "    Args:\n",
    "        X: Features (MNIST images)\n",
    "        y: Labels (digits 0-9)\n",
    "        validation_size: Number of samples for training set (default: 10_000)\n",
    "        test_size: Number of samples for test set (default: 10_000)\n",
    "        random_state: Random seed for reproducibility\n",
    "\n",
    "    Returns:\n",
    "        X_train, X_validation, X_test, y_train, y_validation, y_test: Split datasets\n",
    "\n",
    "    Note:\n",
    "        The validation set will contain all remaining samples not in train or test sets.\n",
    "    \"\"\"\n",
    "    # First split to get the test set\n",
    "    X_temp, X_test, y_temp, y_test = train_test_split(\n",
    "        X, y, test_size=test_size, random_state=random_state\n",
    "    )\n",
    "    # split the remaining data to get training and validation sets\n",
    "    X_train, X_validation, y_train, y_validation = train_test_split(\n",
    "        X_temp, y_temp, test_size=validation_size, random_state=random_state\n",
    "    )\n",
    "    print(f\"Training set size: {X_train.shape[0]}\")\n",
    "    print(f\"Validation set size: {X_validation.shape[0]}\")\n",
    "    print(f\"Test set size: {X_test.shape[0]}\")\n",
    "\n",
    "    return X_train, X_validation, X_test, y_train, y_validation, y_test"
   ]
  },
  {
   "cell_type": "markdown",
   "id": "4625e03a-0327-4404-9761-12c6854767ac",
   "metadata": {},
   "source": [
    "## 1. Split the Data"
   ]
  },
  {
   "cell_type": "code",
   "execution_count": 8,
   "id": "8f9096e6-db71-46a2-99ad-160373cf147c",
   "metadata": {},
   "outputs": [
    {
     "name": "stdout",
     "output_type": "stream",
     "text": [
      "Training set size: 50000\n",
      "Validation set size: 10000\n",
      "Test set size: 10000\n"
     ]
    }
   ],
   "source": [
    "X, y = load_mnist_dataset()\n",
    "\n",
    "X_train, X_validation, X_test, y_train, y_validation, y_test = split_mnist_dataset(\n",
    "    X, y\n",
    ")\n"
   ]
  },
  {
   "cell_type": "markdown",
   "id": "fb6f0b6b-9fe1-4902-9166-cee43ea34918",
   "metadata": {},
   "source": [
    "## Step 2. Evaluate individual classifiers"
   ]
  },
  {
   "cell_type": "code",
   "execution_count": 11,
   "id": "4d7e4b91-189a-4b06-b257-80e4bed41f0b",
   "metadata": {},
   "outputs": [
    {
     "name": "stdout",
     "output_type": "stream",
     "text": [
      "random_forest's accuracy on the validation set is 0.97\n",
      "extra_trees's accuracy on the validation set is 0.97\n",
      "svc's accuracy on the validation set is 0.98\n"
     ]
    }
   ],
   "source": [
    "classifiers = [\n",
    "    (\"random_forest\", RandomForestClassifier(random_state=42)),\n",
    "    (\"extra_trees\", ExtraTreesClassifier(random_state=42)),\n",
    "    (\"svc\", SVC(probability=True, random_state=42)),\n",
    "]\n",
    "trained_models = train_and_evaluate_classifiers(\n",
    "    classifiers, X_train, y_train, X_validation, y_validation\n",
    ")"
   ]
  },
  {
   "cell_type": "markdown",
   "id": "27e9fac9-51db-4695-8b03-76cf86328537",
   "metadata": {},
   "source": [
    "## Step 3. Create blender's training set from out-of-sample predictions of individual classifiers"
   ]
  },
  {
   "cell_type": "code",
   "execution_count": 23,
   "id": "7de8534f-142d-47bf-9803-bf1a64f48700",
   "metadata": {},
   "outputs": [],
   "source": [
    "    # Blender matrix needs a feature matrix where each row is a training example (instance)\n",
    "    # and a column in the index of each individual classifier\n",
    "    validation_meta_features = np.column_stack(\n",
    "        [clf.predict_proba(X_validation) for name, clf in trained_models]\n",
    "    )        "
   ]
  },
  {
   "cell_type": "markdown",
   "id": "7f03abb4-d0b1-4d3c-862c-d00912bf21a0",
   "metadata": {},
   "source": [
    "## Steps 4 and 5. Train a classifier on the new training set and test it on the test set"
   ]
  },
  {
   "cell_type": "code",
   "execution_count": 34,
   "id": "938ce4f8-2ba0-48a5-87eb-152aabd879c2",
   "metadata": {},
   "outputs": [],
   "source": [
    "    # Picking SVC since it performed best on the individual classifiers' level\n",
    "    blender = LogisticRegression(random_state=42)\n",
    "\n",
    "    # we also need meta features for the test set in order to assess correctly\n",
    "    test_meta_features = np.column_stack(\n",
    "        [clf.predict_proba(X_test) for _, clf in trained_models]\n",
    "    )\n",
    "    trained_blender, blender_acc = evaluate_single_classifier(\n",
    "        validation_meta_features, y_validation, test_meta_features, y_test, blender\n",
    "    )"
   ]
  },
  {
   "cell_type": "code",
   "execution_count": 40,
   "id": "a6fe454b-6f8b-439e-81e2-4b8f8abc412b",
   "metadata": {},
   "outputs": [
    {
     "name": "stdout",
     "output_type": "stream",
     "text": [
      "Blender's (LogisitRegression model) accuracy on the test set is 97.7600%\n"
     ]
    }
   ],
   "source": [
    "    print(\n",
    "        f\"Blender's (LogisitRegression model) accuracy on the test set is {blender_acc * 100:.4f}%\"\n",
    "    )"
   ]
  },
  {
   "cell_type": "markdown",
   "id": "39ca41ab-6df8-4c50-8c91-f7ee2d8ed32c",
   "metadata": {},
   "source": [
    "## Step 6. Evaluate stacking with Scikit-Learn's StackingClassifier"
   ]
  },
  {
   "cell_type": "code",
   "execution_count": 38,
   "id": "f43c36cb-c944-49db-b0dd-cf97d594f859",
   "metadata": {},
   "outputs": [],
   "source": [
    "stacking_clf = StackingClassifier(\n",
    "    estimators=[\n",
    "        (\"random_forest\", RandomForestClassifier(random_state=42)),\n",
    "        (\"extra_trees\", ExtraTreesClassifier(random_state=42)),\n",
    "        (\"svc\", SVC(probability=True, random_state=42)),\n",
    "    ],\n",
    "    cv=5,\n",
    ")"
   ]
  },
  {
   "cell_type": "code",
   "execution_count": 39,
   "id": "355b3d9f-0912-445b-8fef-3ddd6ba866ff",
   "metadata": {},
   "outputs": [
    {
     "name": "stdout",
     "output_type": "stream",
     "text": [
      "StackingClassifier's accuracy on the test set is 97.7500%\n"
     ]
    }
   ],
   "source": [
    "stacking_clf.fit(X_train, y_train)\n",
    "stacking_clf_acc = stacking_clf.score(X_test, y_test)\n",
    "print(f\"StackingClassifier's accuracy on the test set is {stacking_clf_acc * 100:.4f}%\")"
   ]
  },
  {
   "cell_type": "code",
   "execution_count": null,
   "id": "94f804f5-dbaa-4edd-a417-a6b951543019",
   "metadata": {},
   "outputs": [],
   "source": []
  }
 ],
 "metadata": {
  "kernelspec": {
   "display_name": "Python 3 (ipykernel)",
   "language": "python",
   "name": "python3"
  },
  "language_info": {
   "codemirror_mode": {
    "name": "ipython",
    "version": 3
   },
   "file_extension": ".py",
   "mimetype": "text/x-python",
   "name": "python",
   "nbconvert_exporter": "python",
   "pygments_lexer": "ipython3",
   "version": "3.10.16"
  }
 },
 "nbformat": 4,
 "nbformat_minor": 5
}
