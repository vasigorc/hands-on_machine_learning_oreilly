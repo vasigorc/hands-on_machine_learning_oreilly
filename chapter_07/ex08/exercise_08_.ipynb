{
 "cells": [
  {
   "cell_type": "markdown",
   "id": "322a9c64-1b2b-4f3a-994f-1e6b6ca81f7c",
   "metadata": {},
   "source": [
    "# Exercise 08\n",
    "\n",
    "Load the MNIST dataset (introduced in Chapter 3), and split it into a training set, a validation set,\n",
    "and a test set (e.g. use 50_000 instances for training, 10_000 each for validation and testing). Then\n",
    "train the various classifiers, such as a random forest classifier, an extra-treees classifier, and\n",
    "a SVM classifier. Next, try to combine them into an ensemble that outperforms each individual classifier\n",
    "on the validation set, using _soft_ or _hard_ voting. Once you have found one, try it on the test\n",
    "set. How much better does it perform compared to the individual classifiers?"
   ]
  },
  {
   "cell_type": "markdown",
   "id": "7e48b5cb-81c7-4e7a-a1d6-fa11a9f0470d",
   "metadata": {},
   "source": [
    "## Imports"
   ]
  },
  {
   "cell_type": "code",
   "execution_count": 1,
   "id": "449070c0-2feb-4fba-ac5b-dc1a8f9ef5d7",
   "metadata": {},
   "outputs": [],
   "source": [
    "import numpy as np\n",
    "from sklearn.datasets import fetch_openml\n",
    "from sklearn.model_selection import train_test_split\n",
    "from sklearn.utils import Bunch\n",
    "from sklearn.svm import SVC\n",
    "from sklearn.ensemble import RandomForestClassifier, ExtraTreesClassifier, VotingClassifier\n",
    "from sklearn.metrics import confusion_matrix, f1_score, precision_score, recall_score"
   ]
  },
  {
   "cell_type": "markdown",
   "id": "809f1b97-687c-4f52-984d-0aab9e4f48c8",
   "metadata": {},
   "source": [
    "## Split the data"
   ]
  },
  {
   "cell_type": "code",
   "execution_count": 2,
   "id": "4b55d95d-ea81-48b9-8dac-569efa26a1dc",
   "metadata": {},
   "outputs": [
    {
     "name": "stdout",
     "output_type": "stream",
     "text": [
      "Training set size: 50000\n",
      "Validation set size: 10000\n",
      "Test set size: 10000\n"
     ]
    }
   ],
   "source": [
    "mnist: Bunch = fetch_openml(\"mnist_784\", version=1, as_frame=False, parser=\"auto\")\n",
    "X: np.ndarray = mnist.data\n",
    "y: np.ndarray = mnist.target\n",
    "# First split to get the test set\n",
    "X_temp, X_test, y_temp, y_test = train_test_split(\n",
    "    X, y, test_size=10_000, random_state=42\n",
    ")\n",
    "# split the remaining data to get training and validation sets\n",
    "X_train, X_validation, y_train, y_validation = train_test_split(\n",
    "    X_temp, y_temp, test_size=10_000, random_state=42\n",
    ")\n",
    "print(f\"Training set size: {X_train.shape[0]}\")\n",
    "print(f\"Validation set size: {X_validation.shape[0]}\")\n",
    "print(f\"Test set size: {X_test.shape[0]}\")"
   ]
  },
  {
   "cell_type": "markdown",
   "id": "e5a857c6-5d89-4527-8dec-4581d2db2429",
   "metadata": {},
   "source": [
    "## Evaluate individual classifiers"
   ]
  },
  {
   "cell_type": "code",
   "execution_count": 3,
   "id": "df52568d-dd89-4b5f-a355-6e500e80154c",
   "metadata": {},
   "outputs": [],
   "source": [
    "def evaluate_single_classsifier(X_train, y_train, X_validation, y_validation, clf):\n",
    "    clf.fit(X_train, y_train)\n",
    "    accuracy = clf.score(X_validation, y_validation)\n",
    "    return clf, accuracy"
   ]
  },
  {
   "cell_type": "code",
   "execution_count": 4,
   "id": "b785bb2a-e7e2-420a-af05-fcbd32de883a",
   "metadata": {},
   "outputs": [],
   "source": [
    "rf_clf, rf_acc = evaluate_single_classsifier(X_train, y_train, X_validation, y_validation, RandomForestClassifier(random_state=42))"
   ]
  },
  {
   "cell_type": "code",
   "execution_count": 5,
   "id": "5095f710-04ee-4319-a811-4820566bb9cf",
   "metadata": {},
   "outputs": [
    {
     "name": "stdout",
     "output_type": "stream",
     "text": [
      "RandomForestClassifier's accuracy on the validation set is 96.92%\n"
     ]
    }
   ],
   "source": [
    "print(f\"RandomForestClassifier's accuracy on the validation set is {rf_acc * 100:.2f}%\")"
   ]
  },
  {
   "cell_type": "code",
   "execution_count": 6,
   "id": "1313a3ea-5fcc-4e60-a554-6039fe4ad7d7",
   "metadata": {},
   "outputs": [
    {
     "name": "stdout",
     "output_type": "stream",
     "text": [
      "ExtraTreesClassifier's accuracy on the validation set is 97.15%\n"
     ]
    }
   ],
   "source": [
    "et_clf, et_acc = evaluate_single_classsifier(X_train, y_train, X_validation, y_validation, ExtraTreesClassifier(random_state=42))\n",
    "print(f\"ExtraTreesClassifier's accuracy on the validation set is {et_acc * 100:.2f}%\")"
   ]
  },
  {
   "cell_type": "code",
   "execution_count": 7,
   "id": "e0052b74-dd2f-4fbe-9036-e8726b3c8ecb",
   "metadata": {},
   "outputs": [],
   "source": [
    "svm_clf, svm_acc = evaluate_single_classsifier(X_train, y_train, X_validation, y_validation, SVC(probability=True, random_state=42))"
   ]
  },
  {
   "cell_type": "code",
   "execution_count": 8,
   "id": "38795d0c-a49d-4976-8725-a0d48ab457f3",
   "metadata": {},
   "outputs": [
    {
     "name": "stdout",
     "output_type": "stream",
     "text": [
      "SVC's accuracy on the validation set is 97.88%\n"
     ]
    }
   ],
   "source": [
    "print(f\"SVC's accuracy on the validation set is {svm_acc * 100:.2f}%\")"
   ]
  },
  {
   "cell_type": "markdown",
   "id": "03967f5f-4365-48ab-a246-20b82aede982",
   "metadata": {},
   "source": [
    "## Combine invidividual classifiers into an Ensemble"
   ]
  },
  {
   "cell_type": "code",
   "execution_count": 16,
   "id": "96f4b603-4b4f-4f36-9d4c-5208b6906577",
   "metadata": {},
   "outputs": [],
   "source": [
    "voting_clf_hard = VotingClassifier(\n",
    "    estimators = [\n",
    "        ('rf', rf_clf),\n",
    "        ('et', et_clf),\n",
    "        ('svc', svm_clf)\n",
    "    ],\n",
    "    voting=\"hard\"\n",
    ")"
   ]
  },
  {
   "cell_type": "code",
   "execution_count": 17,
   "id": "4c153bc5-3ec0-4850-9286-ddff16894246",
   "metadata": {},
   "outputs": [],
   "source": [
    "vt_clf_hard, vt_hard_acc = evaluate_single_classsifier(X_train, y_train, X_validation, y_validation, voting_clf_hard)"
   ]
  },
  {
   "cell_type": "code",
   "execution_count": 18,
   "id": "9df8fc98-c99f-4a9a-8f80-44caa0401802",
   "metadata": {},
   "outputs": [
    {
     "name": "stdout",
     "output_type": "stream",
     "text": [
      "VotingClassifier's accuracy on the validation set with 'hard' voting is 97.44%\n"
     ]
    }
   ],
   "source": [
    "print(f\"VotingClassifier's accuracy on the validation set with 'hard' voting is {vt_hard_acc * 100:.2f}%\")"
   ]
  },
  {
   "cell_type": "code",
   "execution_count": 10,
   "id": "a5e42ad9-d34f-40ff-9fc5-1890f132b35a",
   "metadata": {},
   "outputs": [],
   "source": [
    "voting_clf_soft = VotingClassifier(\n",
    "    estimators = [\n",
    "        ('rf', rf_clf),\n",
    "        ('et', et_clf),\n",
    "        ('svc', svm_clf)\n",
    "    ],\n",
    "    voting=\"soft\"\n",
    ")"
   ]
  },
  {
   "cell_type": "code",
   "execution_count": 11,
   "id": "acb7aebd-c19f-46fe-867c-d2cfe85a6577",
   "metadata": {},
   "outputs": [],
   "source": [
    "vt_clf_soft, vt_soft_acc = evaluate_single_classsifier(X_train, y_train, X_validation, y_validation, voting_clf_soft)"
   ]
  },
  {
   "cell_type": "code",
   "execution_count": 12,
   "id": "46e68794-e45b-42d8-a052-840b138203d5",
   "metadata": {},
   "outputs": [
    {
     "name": "stdout",
     "output_type": "stream",
     "text": [
      "VotingClassifier's accuracy on the validation set with 'soft' voting is 97.91%\n"
     ]
    }
   ],
   "source": [
    "print(f\"VotingClassifier's accuracy on the validation set with 'soft' voting is {vt_soft_acc * 100:.2f}%\")"
   ]
  },
  {
   "cell_type": "code",
   "execution_count": 14,
   "id": "e0fc3c2e-c8c2-48af-92f5-eacdf4981b3a",
   "metadata": {},
   "outputs": [],
   "source": [
    "voting_clf_soft_test_accuracy = voting_clf_soft.score(X_test, y_test)"
   ]
  },
  {
   "cell_type": "code",
   "execution_count": 15,
   "id": "4913886a-d501-4771-a089-390dc27e2530",
   "metadata": {},
   "outputs": [
    {
     "name": "stdout",
     "output_type": "stream",
     "text": [
      "VotingClassifier's accuracy on the test set with 'soft' voting is 97.67%\n"
     ]
    }
   ],
   "source": [
    "print(f\"VotingClassifier's accuracy on the test set with 'soft' voting is {voting_clf_soft_test_accuracy * 100:.2f}%\")"
   ]
  },
  {
   "cell_type": "code",
   "execution_count": null,
   "id": "9a07ae42-1c6b-4adb-95bd-3c86e31c1c7e",
   "metadata": {},
   "outputs": [],
   "source": []
  }
 ],
 "metadata": {
  "kernelspec": {
   "display_name": "Python 3 (ipykernel)",
   "language": "python",
   "name": "python3"
  },
  "language_info": {
   "codemirror_mode": {
    "name": "ipython",
    "version": 3
   },
   "file_extension": ".py",
   "mimetype": "text/x-python",
   "name": "python",
   "nbconvert_exporter": "python",
   "pygments_lexer": "ipython3",
   "version": "3.10.16"
  }
 },
 "nbformat": 4,
 "nbformat_minor": 5
}
